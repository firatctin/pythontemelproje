{
 "cells": [
  {
   "cell_type": "code",
   "execution_count": 2,
   "id": "acada13f",
   "metadata": {},
   "outputs": [
    {
     "data": {
      "text/plain": [
       "[1, 'a', 'cat', 2, 3, 'dog', 4, 5]"
      ]
     },
     "execution_count": 2,
     "metadata": {},
     "output_type": "execute_result"
    }
   ],
   "source": [
    "liste = [[1,'a',['cat'],2],[[[3]],'dog'],4,5]\n",
    "#liste objesini düzleştirecek bir fonksiyon yaz\n",
    "def flatten(a):\n",
    "    new_list= []\n",
    "    for i in a:\n",
    "        if type(i) == type(new_list):\n",
    "            for j in i:\n",
    "                if type(j) == type(new_list):\n",
    "                    for t in j:\n",
    "                        if type(t) == type(new_list):\n",
    "                            for k in t:\n",
    "                                new_list.append(k)\n",
    "                        else:\n",
    "                            new_list.append(t)\n",
    "                else:\n",
    "                    new_list.append(j)\n",
    "        else:\n",
    "            new_list.append(i)\n",
    "    return new_list\n",
    "flatten(liste)\n",
    "#output = [1, 'a', 'cat', 2, 3, 'dog', 4, 5]\n",
    "#bu fonksiyon maksimum 3 iç içe listeye kadar geçerlidir."
   ]
  },
  {
   "cell_type": "code",
   "execution_count": 3,
   "id": "f7c8fddf",
   "metadata": {},
   "outputs": [
    {
     "data": {
      "text/plain": [
       "[[7, 6, 5], [4, 3], [2, 1]]"
      ]
     },
     "execution_count": 3,
     "metadata": {},
     "output_type": "execute_result"
    }
   ],
   "source": [
    "#Liste içi elemanları tersine döndüren bir fonksiyon yazın\n",
    "liste = [[1, 2], [3, 4], [5, 6, 7]]\n",
    "\n",
    "def reversedlist(a):\n",
    "    new_list1 = []\n",
    "    \n",
    "    new_list2 = []\n",
    "    \n",
    "    for i in a:\n",
    "        trylist = []\n",
    "        if type(i) == type(new_list1) :\n",
    "            timer = len(i)-1\n",
    "            for j in i:\n",
    "                trylist.append(i[timer])\n",
    "                timer -= 1\n",
    "                \n",
    "            new_list1.append(trylist)\n",
    "            \n",
    "        else:\n",
    "            new_list1.append(i)\n",
    "    \n",
    "    timer2 = len(new_list1) -1\n",
    "    while timer2 >=0:\n",
    "        new_list2.append(new_list1[timer2])\n",
    "        timer2 -= 1\n",
    "    return new_list2\n",
    "\n",
    "reversedlist(liste)"
   ]
  },
  {
   "cell_type": "code",
   "execution_count": null,
   "id": "1123ca32",
   "metadata": {},
   "outputs": [],
   "source": []
  }
 ],
 "metadata": {
  "kernelspec": {
   "display_name": "Python 3 (ipykernel)",
   "language": "python",
   "name": "python3"
  },
  "language_info": {
   "codemirror_mode": {
    "name": "ipython",
    "version": 3
   },
   "file_extension": ".py",
   "mimetype": "text/x-python",
   "name": "python",
   "nbconvert_exporter": "python",
   "pygments_lexer": "ipython3",
   "version": "3.9.12"
  }
 },
 "nbformat": 4,
 "nbformat_minor": 5
}
